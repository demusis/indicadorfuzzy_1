{
 "cells": [
  {
   "cell_type": "code",
   "execution_count": null,
   "id": "diagnostic-secret",
   "metadata": {},
   "outputs": [],
   "source": [
    "# Livrarias"
   ]
  },
  {
   "cell_type": "code",
   "execution_count": null,
   "id": "liberal-rendering",
   "metadata": {},
   "outputs": [],
   "source": [
    "library(FuzzyR)"
   ]
  },
  {
   "cell_type": "code",
   "execution_count": null,
   "id": "disturbed-turner",
   "metadata": {},
   "outputs": [],
   "source": [
    "# Cria sistema fuzzy.\n",
    "# a <- newfis ('hyper', fisType = \" mamdani \", defuzzMethod = \"centroid \" )\n",
    "\n",
    "m1_fis <- newfis('C')"
   ]
  },
  {
   "cell_type": "code",
   "execution_count": null,
   "id": "disciplinary-harbor",
   "metadata": {},
   "outputs": [],
   "source": [
    "# Adiciona variáveis.\n",
    "m1_fis <- FuzzyR::addvar(m1_fis, 'input', 'AAA', c(0, 100))\n",
    "m1_fis <- FuzzyR::addvar(m1_fis, 'input', 'BBB', c(0, 100))\n",
    "m1_fis <- FuzzyR::addvar(m1_fis, 'output', 'produtividade', c(0, 100))"
   ]
  },
  {
   "cell_type": "code",
   "execution_count": null,
   "id": "blank-spouse",
   "metadata": {},
   "outputs": [],
   "source": [
    "# AAA.\n",
    "m1_fis <- addmf(m1_fis,\n",
    "                'input',\n",
    "                1,\n",
    "                'baixa',\n",
    "                'trapmf',\n",
    "                c(0, 20, 40, 60)\n",
    "               )\n",
    "m1_fis <- addmf(m1_fis,\n",
    "                'input',\n",
    "                1,\n",
    "                'média',\n",
    "                'trapmf',\n",
    "                c(20, 40, 60, 80)\n",
    "               )\n",
    "m1_fis <<- addmf(m1_fis,\n",
    "                 'input',\n",
    "                 1,\n",
    "                 'alta',\n",
    "                 'trapmf',\n",
    "                 c(40, 60, 80, 100)\n",
    "                )\n",
    "plotmf(m1_fis, \"input\" , 1)"
   ]
  },
  {
   "cell_type": "code",
   "execution_count": null,
   "id": "domestic-council",
   "metadata": {},
   "outputs": [],
   "source": [
    "# BBB.\n",
    "m1_fis <- addmf(m1_fis,\n",
    "                'input',\n",
    "                2,\n",
    "                'baixa',\n",
    "                'trapmf',\n",
    "                c(0, 20, 40, 60)\n",
    "               )\n",
    "m1_fis <- addmf(m1_fis,\n",
    "                'input',\n",
    "                2,\n",
    "                'média',\n",
    "                'trapmf',\n",
    "                c(20, 40, 60, 80)\n",
    "               )\n",
    "m1_fis <<- addmf(m1_fis,\n",
    "                 'input',\n",
    "                 2,\n",
    "                 'alta',\n",
    "                 'trapmf',\n",
    "                 c(40, 60, 80, 100)\n",
    "                )\n",
    "plotmf(m1_fis, \"input\" , 2)"
   ]
  },
  {
   "cell_type": "code",
   "execution_count": null,
   "id": "explicit-shepherd",
   "metadata": {},
   "outputs": [],
   "source": [
    "# Produtividade.\n",
    "m1_fis <- addmf(m1_fis,\n",
    "                'output',\n",
    "                1,\n",
    "                'muito baixa',\n",
    "                'trapmf',\n",
    "                c(0, 12.5, 25, 37.5)\n",
    "               )\n",
    "m1_fis <- addmf(m1_fis,\n",
    "                'output',\n",
    "                1,\n",
    "                'baixa',\n",
    "                'trapmf',\n",
    "                c(12.5, 25, 37.5, 50)\n",
    "               )\n",
    "m1_fis <- addmf(m1_fis,\n",
    "                'output',\n",
    "                1,\n",
    "                'média',\n",
    "                'trapmf',\n",
    "                c(25, 37.5, 62.5, 75)\n",
    "               )\n",
    "m1_fis <<- addmf(m1_fis,\n",
    "                 'output',\n",
    "                 1,\n",
    "                 'alta',\n",
    "                 'trapmf',\n",
    "                 c(37.5, 62.5, 75, 87.5)\n",
    "                )\n",
    "m1_fis <<- addmf(m1_fis,\n",
    "                 'output',\n",
    "                 1,\n",
    "                 'muito alta',\n",
    "                 'trapmf',\n",
    "                 c(62.5, 75, 87.5, 100)\n",
    "                )\n",
    "plotmf(m1_fis, \"output\" , 1)"
   ]
  },
  {
   "cell_type": "code",
   "execution_count": null,
   "id": "compliant-wright",
   "metadata": {},
   "outputs": [],
   "source": [
    "# Matriz de regras.\n",
    "lista_regras <- rbind(\n",
    "                # A  B  Produtividade  peso operador (1 - AND, 2 OR)\n",
    "                c(1, 1, 1,             1,   1),\n",
    "                c(1, 2, 2,             1,   1),\n",
    "                c(1, 3, 3,             1,   1),\n",
    "    \n",
    "                c(2, 1, 2,             1,   1),\n",
    "                c(2, 2, 3,             1,   1),\n",
    "                c(2, 3, 4,             1,   1),\n",
    "                \n",
    "                c(3, 1, 3,             1,   1),\n",
    "                c(3, 2, 4,             1,   1),\n",
    "                c(3, 3, 5,             1,   1)\n",
    "            )\n",
    "m1_fis <- addrule(m1_fis, as.matrix(lista_regras))"
   ]
  },
  {
   "cell_type": "code",
   "execution_count": null,
   "id": "restricted-trash",
   "metadata": {},
   "outputs": [],
   "source": [
    "res <- evalfis(c(100, 100), m1_fis)\n",
    "res"
   ]
  },
  {
   "cell_type": "code",
   "execution_count": null,
   "id": "eight-princeton",
   "metadata": {},
   "outputs": [],
   "source": [
    "nome_var = m1_fis$output[[1]]$name\n",
    "plot(D_x, D_y, \n",
    "     type = \"l\", \n",
    "     col = \"blue\", lwd = 3,        \n",
    "     xlab=nome_var,\n",
    "     ylab='Pertinência')\n",
    "abline(v = D_out, col=\"red\", lwd=3, lty=2)\n",
    "text(D_out, \n",
    "     0,  \n",
    "     toString(D_out),\n",
    "     cex=1, pos=4,col=\"red\") "
   ]
  }
 ],
 "metadata": {
  "kernelspec": {
   "display_name": "R",
   "language": "R",
   "name": "ir"
  },
  "language_info": {
   "codemirror_mode": "r",
   "file_extension": ".r",
   "mimetype": "text/x-r-source",
   "name": "R",
   "pygments_lexer": "r",
   "version": "3.6.1"
  }
 },
 "nbformat": 4,
 "nbformat_minor": 5
}
