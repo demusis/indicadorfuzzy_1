{
 "cells": [
  {
   "cell_type": "code",
   "execution_count": 5,
   "id": "stuffed-rally",
   "metadata": {},
   "outputs": [],
   "source": [
    "library(factoextra)\n",
    "library(FuzzyR)\n",
    "library(GPArotation)\n",
    "library(lattice)\n",
    "library(NbClust)\n",
    "library(psych)\n",
    "library(pracma)\n",
    "library(qlcMatrix)\n",
    "library(readxl)"
   ]
  },
  {
   "cell_type": "code",
   "execution_count": null,
   "id": "organized-document",
   "metadata": {},
   "outputs": [],
   "source": []
  },
  {
   "cell_type": "code",
   "execution_count": 6,
   "id": "german-confidence",
   "metadata": {},
   "outputs": [],
   "source": [
    "# Lê dados\n",
    "dados <- read_excel(\"TOTAIS_SCI_MONITORAMENTO.xlsx\")"
   ]
  },
  {
   "cell_type": "code",
   "execution_count": 16,
   "id": "opposed-burton",
   "metadata": {},
   "outputs": [
    {
     "data": {
      "text/html": [
       "<table>\n",
       "<thead><tr><th scope=col>ANO</th><th scope=col>UO</th><th scope=col>QTDE_RECOMENDACOES</th><th scope=col>IMPLEMENTADAS</th><th scope=col>NÃO_IMPLEMENTADAS</th><th scope=col>CANCELADAS</th><th scope=col>EM_IMPLEMENTACAO</th><th scope=col>A_IMPLEMENTAR</th><th scope=col>PERCENTUAL_NAO_ENCAMINHADAS</th><th scope=col>PERCENTUAL_CANCELADAS</th><th scope=col>RECOMENDACOES_ATIVAS</th><th scope=col>PERCENTUAL_IMPLEMENTADAS</th><th scope=col>PERCENTUAL_NAO_IMPLEMENTADAS</th></tr></thead>\n",
       "<tbody>\n",
       "\t<tr><td>2018      </td><td>SINFRA    </td><td>274       </td><td>120       </td><td>142       </td><td>12        </td><td> 0        </td><td>0         </td><td>0.41958042</td><td>0.04379562</td><td>262       </td><td>1.045802  </td><td>0.54198473</td></tr>\n",
       "\t<tr><td>2017      </td><td>SINFRA    </td><td>242       </td><td>110       </td><td> 97       </td><td>35        </td><td> 0        </td><td>0         </td><td>0.39711191</td><td>0.14462810</td><td>207       </td><td>1.169082  </td><td>0.46859903</td></tr>\n",
       "\t<tr><td>2019      </td><td>SES       </td><td>178       </td><td>  7       </td><td>165       </td><td> 2        </td><td> 4        </td><td>0         </td><td>0.06111111</td><td>0.01123596</td><td>176       </td><td>1.011364  </td><td>0.93750000</td></tr>\n",
       "\t<tr><td>2017      </td><td>SES       </td><td>167       </td><td> 26       </td><td>127       </td><td> 6        </td><td> 8        </td><td>0         </td><td>0.19653179</td><td>0.03592814</td><td>161       </td><td>1.037267  </td><td>0.78881988</td></tr>\n",
       "\t<tr><td>2019      </td><td>SINFRA    </td><td>137       </td><td> 63       </td><td> 52       </td><td>19        </td><td> 3        </td><td>0         </td><td>0.42307692</td><td>0.13868613</td><td>118       </td><td>1.161017  </td><td>0.44067797</td></tr>\n",
       "\t<tr><td>2019      </td><td>SEPLAG    </td><td>121       </td><td> 60       </td><td> 10       </td><td> 6        </td><td>45        </td><td>0         </td><td>0.82677165</td><td>0.04958678</td><td>115       </td><td>1.052174  </td><td>0.08695652</td></tr>\n",
       "</tbody>\n",
       "</table>\n"
      ],
      "text/latex": [
       "\\begin{tabular}{r|lllllllllllll}\n",
       " ANO & UO & QTDE\\_RECOMENDACOES & IMPLEMENTADAS & NÃO\\_IMPLEMENTADAS & CANCELADAS & EM\\_IMPLEMENTACAO & A\\_IMPLEMENTAR & PERCENTUAL\\_NAO\\_ENCAMINHADAS & PERCENTUAL\\_CANCELADAS & RECOMENDACOES\\_ATIVAS & PERCENTUAL\\_IMPLEMENTADAS & PERCENTUAL\\_NAO\\_IMPLEMENTADAS\\\\\n",
       "\\hline\n",
       "\t 2018       & SINFRA     & 274        & 120        & 142        & 12         &  0         & 0          & 0.41958042 & 0.04379562 & 262        & 1.045802   & 0.54198473\\\\\n",
       "\t 2017       & SINFRA     & 242        & 110        &  97        & 35         &  0         & 0          & 0.39711191 & 0.14462810 & 207        & 1.169082   & 0.46859903\\\\\n",
       "\t 2019       & SES        & 178        &   7        & 165        &  2         &  4         & 0          & 0.06111111 & 0.01123596 & 176        & 1.011364   & 0.93750000\\\\\n",
       "\t 2017       & SES        & 167        &  26        & 127        &  6         &  8         & 0          & 0.19653179 & 0.03592814 & 161        & 1.037267   & 0.78881988\\\\\n",
       "\t 2019       & SINFRA     & 137        &  63        &  52        & 19         &  3         & 0          & 0.42307692 & 0.13868613 & 118        & 1.161017   & 0.44067797\\\\\n",
       "\t 2019       & SEPLAG     & 121        &  60        &  10        &  6         & 45         & 0          & 0.82677165 & 0.04958678 & 115        & 1.052174   & 0.08695652\\\\\n",
       "\\end{tabular}\n"
      ],
      "text/markdown": [
       "\n",
       "| ANO | UO | QTDE_RECOMENDACOES | IMPLEMENTADAS | NÃO_IMPLEMENTADAS | CANCELADAS | EM_IMPLEMENTACAO | A_IMPLEMENTAR | PERCENTUAL_NAO_ENCAMINHADAS | PERCENTUAL_CANCELADAS | RECOMENDACOES_ATIVAS | PERCENTUAL_IMPLEMENTADAS | PERCENTUAL_NAO_IMPLEMENTADAS |\n",
       "|---|---|---|---|---|---|---|---|---|---|---|---|---|\n",
       "| 2018       | SINFRA     | 274        | 120        | 142        | 12         |  0         | 0          | 0.41958042 | 0.04379562 | 262        | 1.045802   | 0.54198473 |\n",
       "| 2017       | SINFRA     | 242        | 110        |  97        | 35         |  0         | 0          | 0.39711191 | 0.14462810 | 207        | 1.169082   | 0.46859903 |\n",
       "| 2019       | SES        | 178        |   7        | 165        |  2         |  4         | 0          | 0.06111111 | 0.01123596 | 176        | 1.011364   | 0.93750000 |\n",
       "| 2017       | SES        | 167        |  26        | 127        |  6         |  8         | 0          | 0.19653179 | 0.03592814 | 161        | 1.037267   | 0.78881988 |\n",
       "| 2019       | SINFRA     | 137        |  63        |  52        | 19         |  3         | 0          | 0.42307692 | 0.13868613 | 118        | 1.161017   | 0.44067797 |\n",
       "| 2019       | SEPLAG     | 121        |  60        |  10        |  6         | 45         | 0          | 0.82677165 | 0.04958678 | 115        | 1.052174   | 0.08695652 |\n",
       "\n"
      ],
      "text/plain": [
       "  ANO  UO     QTDE_RECOMENDACOES IMPLEMENTADAS NÃO_IMPLEMENTADAS CANCELADAS\n",
       "1 2018 SINFRA 274                120           142               12        \n",
       "2 2017 SINFRA 242                110            97               35        \n",
       "3 2019 SES    178                  7           165                2        \n",
       "4 2017 SES    167                 26           127                6        \n",
       "5 2019 SINFRA 137                 63            52               19        \n",
       "6 2019 SEPLAG 121                 60            10                6        \n",
       "  EM_IMPLEMENTACAO A_IMPLEMENTAR PERCENTUAL_NAO_ENCAMINHADAS\n",
       "1  0               0             0.41958042                 \n",
       "2  0               0             0.39711191                 \n",
       "3  4               0             0.06111111                 \n",
       "4  8               0             0.19653179                 \n",
       "5  3               0             0.42307692                 \n",
       "6 45               0             0.82677165                 \n",
       "  PERCENTUAL_CANCELADAS RECOMENDACOES_ATIVAS PERCENTUAL_IMPLEMENTADAS\n",
       "1 0.04379562            262                  1.045802                \n",
       "2 0.14462810            207                  1.169082                \n",
       "3 0.01123596            176                  1.011364                \n",
       "4 0.03592814            161                  1.037267                \n",
       "5 0.13868613            118                  1.161017                \n",
       "6 0.04958678            115                  1.052174                \n",
       "  PERCENTUAL_NAO_IMPLEMENTADAS\n",
       "1 0.54198473                  \n",
       "2 0.46859903                  \n",
       "3 0.93750000                  \n",
       "4 0.78881988                  \n",
       "5 0.44067797                  \n",
       "6 0.08695652                  "
      ]
     },
     "metadata": {},
     "output_type": "display_data"
    }
   ],
   "source": [
    "# Índices.\n",
    "dados$PERCENTUAL_IMPLEMENTADAS <-    \n",
    "  dados$QTDE_RECOMENDACOES/(dados$QTDE_RECOMENDACOES-dados$CANCELADAS)\n",
    "dados$PERCENTUAL_NAO_ENCAMINHADAS <-\n",
    "  (dados$IMPLEMENTADAS+dados$EM_IMPLEMENTACAO)/\n",
    "  (dados$QTDE_RECOMENDACOES+dados$CANCELADAS)\n",
    "dados$PERCENTUAL_NAO_IMPLEMENTADAS <-\n",
    "  dados$NÃO_IMPLEMENTADAS/(dados$QTDE_RECOMENDACOES-\n",
    "                           dados$CANCELADAS)\n",
    "dados$PERCENTUAL_CANCELADAS <-\n",
    "  dados$CANCELADAS/dados$QTDE_RECOMENDACOES\n",
    "dados$RECOMENDACOES_ATIVAS <-\n",
    "  dados$QTDE_RECOMENDACOES-dados$CANCELADAS\n",
    "\n",
    "head(dados)"
   ]
  },
  {
   "cell_type": "code",
   "execution_count": 19,
   "id": "packed-wyoming",
   "metadata": {},
   "outputs": [],
   "source": [
    "recorte <- dados[,c(3, 5, 8, 9, 11, 13)]"
   ]
  },
  {
   "cell_type": "code",
   "execution_count": 20,
   "id": "accessory-assets",
   "metadata": {},
   "outputs": [
    {
     "data": {
      "text/plain": [
       "Principal Components Analysis\n",
       "Call: principal(r = recorte, nfactors = 3, rotate = \"varimax\", scores = TRUE)\n",
       "Standardized loadings (pattern matrix) based upon correlation matrix\n",
       "                               RC1   RC2   RC3   h2     u2 com\n",
       "QTDE_RECOMENDACOES            0.98  0.04 -0.01 0.97 0.0290 1.0\n",
       "NÃO_IMPLEMENTADAS             0.86  0.36 -0.02 0.87 0.1255 1.3\n",
       "A_IMPLEMENTAR                -0.02  0.08  1.00 1.00 0.0032 1.0\n",
       "PERCENTUAL_NAO_ENCAMINHADAS  -0.10 -0.95 -0.19 0.95 0.0514 1.1\n",
       "RECOMENDACOES_ATIVAS          0.99  0.03 -0.01 0.98 0.0211 1.0\n",
       "PERCENTUAL_NAO_IMPLEMENTADAS  0.14  0.97 -0.06 0.96 0.0416 1.1\n",
       "\n",
       "                       RC1  RC2  RC3\n",
       "SS loadings           2.72 1.97 1.03\n",
       "Proportion Var        0.45 0.33 0.17\n",
       "Cumulative Var        0.45 0.78 0.95\n",
       "Proportion Explained  0.48 0.34 0.18\n",
       "Cumulative Proportion 0.48 0.82 1.00\n",
       "\n",
       "Mean item complexity =  1.1\n",
       "Test of the hypothesis that 3 components are sufficient.\n",
       "\n",
       "The root mean square of the residuals (RMSR) is  0.03 \n",
       " with the empirical chi square  2.39  with prob <  NA \n",
       "\n",
       "Fit based upon off diagonal values = 1"
      ]
     },
     "metadata": {},
     "output_type": "display_data"
    }
   ],
   "source": [
    "# PCA.\n",
    "PCA0 <- principal(recorte, scores=TRUE, rotate='varimax', nfactors=3)\n",
    "escalonados_pca <- PCA0$scores\n",
    "PCA0"
   ]
  },
  {
   "cell_type": "code",
   "execution_count": 31,
   "id": "hybrid-somalia",
   "metadata": {},
   "outputs": [],
   "source": [
    "dados <- cbind(dados, escalonados_pca)"
   ]
  },
  {
   "cell_type": "code",
   "execution_count": 24,
   "id": "humanitarian-finnish",
   "metadata": {},
   "outputs": [],
   "source": [
    "normaliza <- function(x, ...){(x - min(x, ...)) / (max(x, ...) - min(x, ...))}"
   ]
  },
  {
   "cell_type": "code",
   "execution_count": 33,
   "id": "saving-fight",
   "metadata": {},
   "outputs": [],
   "source": [
    "dados$RC1n <- normaliza(dados$RC1, na.rm=TRUE)\n",
    "dados$RC2n <- normaliza(dados$RC2, na.rm=TRUE)\n",
    "dados$RC3n <- normaliza(dados$RC3, na.rm=TRUE)"
   ]
  },
  {
   "cell_type": "code",
   "execution_count": 45,
   "id": "impossible-cruise",
   "metadata": {},
   "outputs": [
    {
     "data": {
      "text/html": [
       "<table>\n",
       "<thead><tr><th scope=col>ANO</th><th scope=col>UO</th><th scope=col>QTDE_RECOMENDACOES</th><th scope=col>IMPLEMENTADAS</th><th scope=col>NÃO_IMPLEMENTADAS</th><th scope=col>CANCELADAS</th><th scope=col>EM_IMPLEMENTACAO</th><th scope=col>A_IMPLEMENTAR</th><th scope=col>PERCENTUAL_NAO_ENCAMINHADAS</th><th scope=col>PERCENTUAL_CANCELADAS</th><th scope=col>RECOMENDACOES_ATIVAS</th><th scope=col>PERCENTUAL_IMPLEMENTADAS</th><th scope=col>PERCENTUAL_NAO_IMPLEMENTADAS</th><th scope=col>RC1</th><th scope=col>RC2</th><th scope=col>RC3</th><th scope=col>RC1n</th><th scope=col>RC2n</th><th scope=col>RC3n</th><th scope=col>escore</th></tr></thead>\n",
       "<tbody>\n",
       "\t<tr><td>2018       </td><td>SINFRA     </td><td>274        </td><td>120        </td><td>142        </td><td>12         </td><td> 0         </td><td>0          </td><td>0.41958042 </td><td>0.04379562 </td><td>262        </td><td>1.045802   </td><td>0.54198473 </td><td>5.480447   </td><td> 0.1564861 </td><td>-0.08279722</td><td>1.0000000  </td><td>0.36543054 </td><td>0.04112122 </td><td>58.11998   </td></tr>\n",
       "\t<tr><td>2017       </td><td>SINFRA     </td><td>242        </td><td>110        </td><td> 97        </td><td>35         </td><td> 0         </td><td>0          </td><td>0.39711191 </td><td>0.14462810 </td><td>207        </td><td>1.169082   </td><td>0.46859903 </td><td>4.217560   </td><td> 0.1257164 </td><td>-0.05428097</td><td>0.8033556  </td><td>0.35610072 </td><td>0.04467791 </td><td>48.94826   </td></tr>\n",
       "\t<tr><td>2019       </td><td>SES        </td><td>178        </td><td>  7        </td><td>165        </td><td> 2         </td><td> 4         </td><td>0          </td><td>0.06111111 </td><td>0.01123596 </td><td>176        </td><td>1.011364   </td><td>0.93750000 </td><td>3.979172   </td><td> 1.7991790 </td><td>-0.32595470</td><td>0.7662361  </td><td>0.86351916 </td><td>0.01079340 </td><td>63.37525   </td></tr>\n",
       "\t<tr><td>2017       </td><td>SES        </td><td>167        </td><td> 26        </td><td>127        </td><td> 6         </td><td> 8         </td><td>0          </td><td>0.19653179 </td><td>0.03592814 </td><td>161        </td><td>1.037267   </td><td>0.78881988 </td><td>3.384956   </td><td> 1.3036393 </td><td>-0.26869290</td><td>0.6737106  </td><td>0.71326426 </td><td>0.01793538 </td><td>54.35476   </td></tr>\n",
       "\t<tr><td>2019       </td><td>SINFRA     </td><td>137        </td><td> 63        </td><td> 52        </td><td>19         </td><td> 3         </td><td>0          </td><td>0.42307692 </td><td>0.13868613 </td><td>118        </td><td>1.161017   </td><td>0.44067797 </td><td>2.022248   </td><td> 0.3489844 </td><td>-0.13330079</td><td>0.4615232  </td><td>0.42379887 </td><td>0.03482216 </td><td>35.49011   </td></tr>\n",
       "\t<tr><td>2019       </td><td>SEPLAG     </td><td>121        </td><td> 60        </td><td> 10        </td><td> 6         </td><td>45         </td><td>0          </td><td>0.82677165 </td><td>0.04958678 </td><td>115        </td><td>1.052174   </td><td>0.08695652 </td><td>1.546651   </td><td>-0.8805932 </td><td>-0.03838689</td><td>0.3874679  </td><td>0.05097285 </td><td>0.04666031 </td><td>20.06612   </td></tr>\n",
       "</tbody>\n",
       "</table>\n"
      ],
      "text/latex": [
       "\\begin{tabular}{r|llllllllllllllllllll}\n",
       " ANO & UO & QTDE\\_RECOMENDACOES & IMPLEMENTADAS & NÃO\\_IMPLEMENTADAS & CANCELADAS & EM\\_IMPLEMENTACAO & A\\_IMPLEMENTAR & PERCENTUAL\\_NAO\\_ENCAMINHADAS & PERCENTUAL\\_CANCELADAS & RECOMENDACOES\\_ATIVAS & PERCENTUAL\\_IMPLEMENTADAS & PERCENTUAL\\_NAO\\_IMPLEMENTADAS & RC1 & RC2 & RC3 & RC1n & RC2n & RC3n & escore\\\\\n",
       "\\hline\n",
       "\t 2018        & SINFRA      & 274         & 120         & 142         & 12          &  0          & 0           & 0.41958042  & 0.04379562  & 262         & 1.045802    & 0.54198473  & 5.480447    &  0.1564861  & -0.08279722 & 1.0000000   & 0.36543054  & 0.04112122  & 58.11998   \\\\\n",
       "\t 2017        & SINFRA      & 242         & 110         &  97         & 35          &  0          & 0           & 0.39711191  & 0.14462810  & 207         & 1.169082    & 0.46859903  & 4.217560    &  0.1257164  & -0.05428097 & 0.8033556   & 0.35610072  & 0.04467791  & 48.94826   \\\\\n",
       "\t 2019        & SES         & 178         &   7         & 165         &  2          &  4          & 0           & 0.06111111  & 0.01123596  & 176         & 1.011364    & 0.93750000  & 3.979172    &  1.7991790  & -0.32595470 & 0.7662361   & 0.86351916  & 0.01079340  & 63.37525   \\\\\n",
       "\t 2017        & SES         & 167         &  26         & 127         &  6          &  8          & 0           & 0.19653179  & 0.03592814  & 161         & 1.037267    & 0.78881988  & 3.384956    &  1.3036393  & -0.26869290 & 0.6737106   & 0.71326426  & 0.01793538  & 54.35476   \\\\\n",
       "\t 2019        & SINFRA      & 137         &  63         &  52         & 19          &  3          & 0           & 0.42307692  & 0.13868613  & 118         & 1.161017    & 0.44067797  & 2.022248    &  0.3489844  & -0.13330079 & 0.4615232   & 0.42379887  & 0.03482216  & 35.49011   \\\\\n",
       "\t 2019        & SEPLAG      & 121         &  60         &  10         &  6          & 45          & 0           & 0.82677165  & 0.04958678  & 115         & 1.052174    & 0.08695652  & 1.546651    & -0.8805932  & -0.03838689 & 0.3874679   & 0.05097285  & 0.04666031  & 20.06612   \\\\\n",
       "\\end{tabular}\n"
      ],
      "text/markdown": [
       "\n",
       "| ANO | UO | QTDE_RECOMENDACOES | IMPLEMENTADAS | NÃO_IMPLEMENTADAS | CANCELADAS | EM_IMPLEMENTACAO | A_IMPLEMENTAR | PERCENTUAL_NAO_ENCAMINHADAS | PERCENTUAL_CANCELADAS | RECOMENDACOES_ATIVAS | PERCENTUAL_IMPLEMENTADAS | PERCENTUAL_NAO_IMPLEMENTADAS | RC1 | RC2 | RC3 | RC1n | RC2n | RC3n | escore |\n",
       "|---|---|---|---|---|---|---|---|---|---|---|---|---|---|---|---|---|---|---|---|\n",
       "| 2018        | SINFRA      | 274         | 120         | 142         | 12          |  0          | 0           | 0.41958042  | 0.04379562  | 262         | 1.045802    | 0.54198473  | 5.480447    |  0.1564861  | -0.08279722 | 1.0000000   | 0.36543054  | 0.04112122  | 58.11998    |\n",
       "| 2017        | SINFRA      | 242         | 110         |  97         | 35          |  0          | 0           | 0.39711191  | 0.14462810  | 207         | 1.169082    | 0.46859903  | 4.217560    |  0.1257164  | -0.05428097 | 0.8033556   | 0.35610072  | 0.04467791  | 48.94826    |\n",
       "| 2019        | SES         | 178         |   7         | 165         |  2          |  4          | 0           | 0.06111111  | 0.01123596  | 176         | 1.011364    | 0.93750000  | 3.979172    |  1.7991790  | -0.32595470 | 0.7662361   | 0.86351916  | 0.01079340  | 63.37525    |\n",
       "| 2017        | SES         | 167         |  26         | 127         |  6          |  8          | 0           | 0.19653179  | 0.03592814  | 161         | 1.037267    | 0.78881988  | 3.384956    |  1.3036393  | -0.26869290 | 0.6737106   | 0.71326426  | 0.01793538  | 54.35476    |\n",
       "| 2019        | SINFRA      | 137         |  63         |  52         | 19          |  3          | 0           | 0.42307692  | 0.13868613  | 118         | 1.161017    | 0.44067797  | 2.022248    |  0.3489844  | -0.13330079 | 0.4615232   | 0.42379887  | 0.03482216  | 35.49011    |\n",
       "| 2019        | SEPLAG      | 121         |  60         |  10         |  6          | 45          | 0           | 0.82677165  | 0.04958678  | 115         | 1.052174    | 0.08695652  | 1.546651    | -0.8805932  | -0.03838689 | 0.3874679   | 0.05097285  | 0.04666031  | 20.06612    |\n",
       "\n"
      ],
      "text/plain": [
       "  ANO  UO     QTDE_RECOMENDACOES IMPLEMENTADAS NÃO_IMPLEMENTADAS CANCELADAS\n",
       "1 2018 SINFRA 274                120           142               12        \n",
       "2 2017 SINFRA 242                110            97               35        \n",
       "3 2019 SES    178                  7           165                2        \n",
       "4 2017 SES    167                 26           127                6        \n",
       "5 2019 SINFRA 137                 63            52               19        \n",
       "6 2019 SEPLAG 121                 60            10                6        \n",
       "  EM_IMPLEMENTACAO A_IMPLEMENTAR PERCENTUAL_NAO_ENCAMINHADAS\n",
       "1  0               0             0.41958042                 \n",
       "2  0               0             0.39711191                 \n",
       "3  4               0             0.06111111                 \n",
       "4  8               0             0.19653179                 \n",
       "5  3               0             0.42307692                 \n",
       "6 45               0             0.82677165                 \n",
       "  PERCENTUAL_CANCELADAS RECOMENDACOES_ATIVAS PERCENTUAL_IMPLEMENTADAS\n",
       "1 0.04379562            262                  1.045802                \n",
       "2 0.14462810            207                  1.169082                \n",
       "3 0.01123596            176                  1.011364                \n",
       "4 0.03592814            161                  1.037267                \n",
       "5 0.13868613            118                  1.161017                \n",
       "6 0.04958678            115                  1.052174                \n",
       "  PERCENTUAL_NAO_IMPLEMENTADAS RC1      RC2        RC3         RC1n     \n",
       "1 0.54198473                   5.480447  0.1564861 -0.08279722 1.0000000\n",
       "2 0.46859903                   4.217560  0.1257164 -0.05428097 0.8033556\n",
       "3 0.93750000                   3.979172  1.7991790 -0.32595470 0.7662361\n",
       "4 0.78881988                   3.384956  1.3036393 -0.26869290 0.6737106\n",
       "5 0.44067797                   2.022248  0.3489844 -0.13330079 0.4615232\n",
       "6 0.08695652                   1.546651 -0.8805932 -0.03838689 0.3874679\n",
       "  RC2n       RC3n       escore  \n",
       "1 0.36543054 0.04112122 58.11998\n",
       "2 0.35610072 0.04467791 48.94826\n",
       "3 0.86351916 0.01079340 63.37525\n",
       "4 0.71326426 0.01793538 54.35476\n",
       "5 0.42379887 0.03482216 35.49011\n",
       "6 0.05097285 0.04666031 20.06612"
      ]
     },
     "metadata": {},
     "output_type": "display_data"
    }
   ],
   "source": [
    "head(dados)"
   ]
  },
  {
   "cell_type": "code",
   "execution_count": 37,
   "id": "universal-rebel",
   "metadata": {},
   "outputs": [
    {
     "data": {
      "text/html": [
       "<table>\n",
       "<thead><tr><th></th><th scope=col>RC1</th><th scope=col>RC2</th><th scope=col>RC3</th></tr></thead>\n",
       "<tbody>\n",
       "\t<tr><th scope=row>SS loadings</th><td>2.7234552</td><td>1.9739920</td><td>1.0307668</td></tr>\n",
       "\t<tr><th scope=row>Proportion Var</th><td>0.4539092</td><td>0.3289987</td><td>0.1717945</td></tr>\n",
       "\t<tr><th scope=row>Cumulative Var</th><td>0.4539092</td><td>0.7829079</td><td>0.9547023</td></tr>\n",
       "\t<tr><th scope=row>Proportion Explained</th><td>0.4754458</td><td>0.3446086</td><td>0.1799456</td></tr>\n",
       "\t<tr><th scope=row>Cumulative Proportion</th><td>0.4754458</td><td>0.8200544</td><td>1.0000000</td></tr>\n",
       "</tbody>\n",
       "</table>\n"
      ],
      "text/latex": [
       "\\begin{tabular}{r|lll}\n",
       "  & RC1 & RC2 & RC3\\\\\n",
       "\\hline\n",
       "\tSS loadings & 2.7234552 & 1.9739920 & 1.0307668\\\\\n",
       "\tProportion Var & 0.4539092 & 0.3289987 & 0.1717945\\\\\n",
       "\tCumulative Var & 0.4539092 & 0.7829079 & 0.9547023\\\\\n",
       "\tProportion Explained & 0.4754458 & 0.3446086 & 0.1799456\\\\\n",
       "\tCumulative Proportion & 0.4754458 & 0.8200544 & 1.0000000\\\\\n",
       "\\end{tabular}\n"
      ],
      "text/markdown": [
       "\n",
       "| <!--/--> | RC1 | RC2 | RC3 |\n",
       "|---|---|---|---|\n",
       "| SS loadings | 2.7234552 | 1.9739920 | 1.0307668 |\n",
       "| Proportion Var | 0.4539092 | 0.3289987 | 0.1717945 |\n",
       "| Cumulative Var | 0.4539092 | 0.7829079 | 0.9547023 |\n",
       "| Proportion Explained | 0.4754458 | 0.3446086 | 0.1799456 |\n",
       "| Cumulative Proportion | 0.4754458 | 0.8200544 | 1.0000000 |\n",
       "\n"
      ],
      "text/plain": [
       "                      RC1       RC2       RC3      \n",
       "SS loadings           2.7234552 1.9739920 1.0307668\n",
       "Proportion Var        0.4539092 0.3289987 0.1717945\n",
       "Cumulative Var        0.4539092 0.7829079 0.9547023\n",
       "Proportion Explained  0.4754458 0.3446086 0.1799456\n",
       "Cumulative Proportion 0.4754458 0.8200544 1.0000000"
      ]
     },
     "metadata": {},
     "output_type": "display_data"
    }
   ],
   "source": [
    "PCA0$Vaccounted"
   ]
  },
  {
   "cell_type": "code",
   "execution_count": 39,
   "id": "daily-detector",
   "metadata": {},
   "outputs": [],
   "source": [
    "RC1pv <- PCA0$Vaccounted[2, 1]\n",
    "RC2pv <- PCA0$Vaccounted[2, 2]\n",
    "RC3pv <- PCA0$Vaccounted[2, 3]"
   ]
  },
  {
   "cell_type": "code",
   "execution_count": 44,
   "id": "searching-typing",
   "metadata": {},
   "outputs": [],
   "source": [
    "dados$escore <- (RC1pv*dados$RC1n+RC2pv*dados$RC2n+RC3pv*dados$RC3n)*100"
   ]
  },
  {
   "cell_type": "code",
   "execution_count": 48,
   "id": "textile-football",
   "metadata": {},
   "outputs": [],
   "source": [
    "write.csv(dados, 'res_01.csv')"
   ]
  }
 ],
 "metadata": {
  "kernelspec": {
   "display_name": "R",
   "language": "R",
   "name": "ir"
  },
  "language_info": {
   "codemirror_mode": "r",
   "file_extension": ".r",
   "mimetype": "text/x-r-source",
   "name": "R",
   "pygments_lexer": "r",
   "version": "3.6.1"
  }
 },
 "nbformat": 4,
 "nbformat_minor": 5
}
